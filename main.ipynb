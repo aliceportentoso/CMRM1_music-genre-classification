{
 "cells": [
  {
   "cell_type": "markdown",
   "id": "04ca6994",
   "metadata": {},
   "source": [
    "# CMRM Homework Assignment No. 1 (HW1)"
   ]
  },
  {
   "cell_type": "code",
   "execution_count": null,
   "id": "fdf08027",
   "metadata": {
    "scrolled": true
   },
   "outputs": [],
   "source": [
    "import os\n",
    "import librosa\n",
    "import numpy as np\n",
    "import matplotlib.pyplot as plt\n",
    "\n",
    "# import other libraries\n",
    "import deeplake\n",
    "from tqdm import tqdm\n",
    "import sklearn as sk\n",
    "import sklearn.preprocessing as skp\n",
    "import sklearn.svm \n",
    "import joblib\n",
    "import seaborn as sns\n",
    "from scipy.signal import spectrogram\n",
    "import IPython.display as ipd\n"
   ]
  },
  {
   "cell_type": "markdown",
   "id": "f17a7c50",
   "metadata": {},
   "source": [
    "## Question 1"
   ]
  },
  {
   "cell_type": "code",
   "execution_count": null,
   "id": "73a2cb00",
   "metadata": {
    "scrolled": true
   },
   "outputs": [],
   "source": [
    "# Import dataset\n",
    "dataset = deeplake.load(\"hub://activeloop/gtzan-genre\") #"
   ]
  },
  {
   "cell_type": "code",
   "execution_count": null,
   "id": "cf877ba9",
   "metadata": {
    "scrolled": false
   },
   "outputs": [],
   "source": [
    "Fs = 22050\n",
    "n_samples = 29 * Fs # duration in samples \n",
    "\n",
    "# Define downsampling factors\n",
    "sub_train = 10\n",
    "sub_test = 52\n",
    "\n",
    "# Extract classes\n",
    "genre_names = ['pop', 'metal', 'classical', 'rock', 'blues', 'jazz', 'hiphop', 'reggae', 'disco', 'country'];\n",
    "\n",
    "train_indices = list(range(0, 1000, sub_train))\n",
    "test_indices = list(range(11, 1000, sub_test))\n",
    "\n",
    "genre_train = dataset['genre'][train_indices]\n",
    "genre_test = dataset['genre'][test_indices]\n",
    "\n",
    "print(f\"Shapes of genre_train:{np.shape(genre_train)}\")\n",
    "print(f\"Shapes of genre_test:{np.shape(genre_test)}\")\n",
    "\n",
    "# Extract training set\n",
    "audio_train = []\n",
    "for i in tqdm(train_indices):\n",
    "    audio = dataset['audio'][i].numpy()\n",
    "    audio_train.append(audio[:n_samples]) \n",
    "audio_train = np.squeeze(np.array(audio_train), axis=-1)\n",
    "\n",
    "# Extract test set\n",
    "audio_test = []\n",
    "for i in tqdm(test_indices):\n",
    "    audio = dataset['audio'][i].numpy()\n",
    "    audio_test.append(audio[:n_samples]) \n",
    "audio_test = np.squeeze(np.array(audio_test), axis=-1)\n",
    "\n",
    "print(f\"Shapes of audio_train:{np.shape(audio_train)}\")\n",
    "print(f\"Shapes of audio_test:{np.shape(audio_test)}\")"
   ]
  },
  {
   "cell_type": "code",
   "execution_count": null,
   "id": "08e600a3",
   "metadata": {
    "scrolled": true
   },
   "outputs": [],
   "source": [
    "# Plot the first wav in the train set\n",
    "plt.figure(figsize=(5,3))\n",
    "t = list(range(0,len(audio_train[0])))\n",
    "t = [x / Fs for x in t]\n",
    "plt.plot(t, audio_train[0])\n",
    "plt.title('First audio file')\n",
    "plt.xlabel('Time [seconds]')\n",
    "plt.ylabel('Amplitude')\n",
    "plt.show()\n",
    "ipd.display(ipd.Audio(audio_train[0], rate=Fs))"
   ]
  },
  {
   "cell_type": "markdown",
   "id": "5690607c",
   "metadata": {},
   "source": [
    "## Plot the first wav in the train set\n"
   ]
  },
  {
   "cell_type": "markdown",
   "id": "e3685c21",
   "metadata": {},
   "source": [
    "## Question 2"
   ]
  },
  {
   "cell_type": "code",
   "execution_count": null,
   "id": "618ab118",
   "metadata": {},
   "outputs": [],
   "source": [
    "# Preprocessing\n",
    "scaler = skp.MinMaxScaler(feature_range=(-1, 1))\n",
    "\n",
    "for i in range(len(audio_train)):\n",
    "    audio_train[i] = scaler.fit_transform(audio_train[i].reshape(-1,1)).squeeze()\n",
    "    \n",
    "for i in range(len(audio_train)):\n",
    "    audio_train[i] = scaler.fit_transform(audio_train[i].reshape(-1,1)).squeeze()"
   ]
  },
  {
   "cell_type": "code",
   "execution_count": null,
   "id": "5450ba9d",
   "metadata": {
    "scrolled": true
   },
   "outputs": [],
   "source": [
    "# Plot the first wav in the train set after preprocessing\n",
    "plt.figure(figsize=(5,3))\n",
    "plt.plot(t, audio_train[0])\n",
    "plt.title('First normalized audio file')\n",
    "plt.xlabel('Time [seconds]')\n",
    "plt.ylabel('Amplitude')\n",
    "plt.show()"
   ]
  },
  {
   "cell_type": "code",
   "execution_count": null,
   "id": "1c53044c",
   "metadata": {},
   "outputs": [],
   "source": [
    "# Compute local average\n",
    "def compute_local_average(x, M, Fs):\n",
    "# M numero di sample per window\n",
    "\n",
    "    L = len(x)\n",
    "    local_average = np.zeros(L)\n",
    "\n",
    "    for i in range(L):\n",
    "        start = max(0, i - M)\n",
    "        end = min(L, i + M + 1)\n",
    "        local_average[i] = np.sum(x[start:end]) * (1/(2*M + 1))\n",
    "    return local_average\n",
    "    \n",
    "\n",
    "# Compute the principal argument\n",
    "def principal_argument(x):\n",
    "    \n",
    "    y = (x + 0.5) % 1 - 0.5\n",
    "    \n",
    "    return y\n",
    "\n",
    "# Compute the Phase-Based Novelty function\n",
    "def compute_phase_novelty(y=None, Fs=1, N=1024, H=64, M=40, norm=True, plot=False):\n",
    "    \n",
    "    # Compute the STFT\n",
    "    X = librosa.stft(y, n_fft=N, hop_length=H, win_length=N, window='hann')\n",
    "    \n",
    "    # Compute the novelty rate\n",
    "    Fs_nov = Fs / H \n",
    "    \n",
    "    # Extract the phase \n",
    "    phase = np.angle(X) / (2*np.pi)\n",
    "    \n",
    "    # Compute first and second derivatives of the phase\n",
    "    phase_der1 = principal_argument(np.diff(phase, axis=1))\n",
    "    phase_der2 = principal_argument(np.diff(phase_der1, axis=1))\n",
    "    \n",
    "    # Accumulation over frequency axis\n",
    "    nov = np.sum(np.abs(phase_der2), axis=0)\n",
    "    nov = np.concatenate((nov, np.array([0, 0])))\n",
    "    \n",
    "    # Local average subtraction and half-wave rectification\n",
    "    local_average = compute_local_average(nov, M, Fs)\n",
    "    nov = nov - local_average\n",
    "    nov[nov < 0] = 0\n",
    "    \n",
    "    # Normalization\n",
    "    if norm: \n",
    "        max_value = np.max(nov)\n",
    "        if max_value > 0:\n",
    "            nov = nov / max_value\n",
    "        \n",
    "    # Plot\n",
    "    if plot:\n",
    "        time_axis = np.arange(nov.shape[0]) / Fs_nov\n",
    "        \n",
    "        plt.figure(figsize=(10,4))\n",
    "        plt.xlim([time_axis[0], time_axis[-1]])\n",
    "        plt.title('Phase-based novelty function')\n",
    "        plt.xlabel('Time [seconds]')\n",
    "        plt.plot(time_axis, nov)\n",
    "    \n",
    "    return nov, Fs_nov"
   ]
  },
  {
   "cell_type": "code",
   "execution_count": null,
   "id": "a15b9d78",
   "metadata": {},
   "outputs": [],
   "source": [
    "# Test the novelty function on the first wav in the train set\n",
    "nov, Fs_nov = compute_phase_novelty(audio_train[0], Fs=Fs, norm=1, plot = True) "
   ]
  },
  {
   "cell_type": "markdown",
   "id": "e9a6328b",
   "metadata": {},
   "source": [
    "## Question 3"
   ]
  },
  {
   "cell_type": "code",
   "execution_count": null,
   "id": "b1c4efe0",
   "metadata": {},
   "outputs": [],
   "source": [
    "def compute_feature_vector(x, Fs, N=2048, H=128):\n",
    "    \n",
    "    # Compute rhythmic features\n",
    "    nov, Fs_nov = compute_phase_novelty(y=x, Fs=Fs, norm=1, plot=0) #rimetti M = 0!\n",
    "    novelty_std = np.std(nov)\n",
    "    novelty_mean = np.mean(nov)\n",
    "    \n",
    "    tempogram = librosa.feature.tempogram(y=x, sr=Fs) #prova y = nov\n",
    "    zero_crossings = librosa.feature.zero_crossing_rate(x)\n",
    "    zero_crossings_std = np.std(zero_crossings)\n",
    "    zero_crossings_mean = np.mean(zero_crossings)\n",
    "\n",
    "    spectral_flux = np.diff(librosa.onset.onset_strength(y=x, sr=Fs))    \n",
    "    spectral_flux_std = np.std(spectral_flux)\n",
    "    spectral_flux_mean = np.mean(spectral_flux)\n",
    "    tempo = librosa.feature.rhythm.tempo(onset_envelope=spectral_flux, y=x, sr=Fs, hop_length=H, tg=tempogram)[0]\n",
    "    \n",
    "    novelty_std = novelty_std.reshape((1,))\n",
    "    novelty_mean = novelty_mean.reshape((1,))\n",
    "    zero_crossings_std = zero_crossings_std.reshape((1,))\n",
    "    zero_crossings_mean = zero_crossings_mean.reshape((1,))\n",
    "    spectral_flux_std = spectral_flux_std.reshape((1,))\n",
    "    spectral_flux_mean = spectral_flux_mean.reshape((1,))\n",
    "    tempo = tempo.reshape((1,))\n",
    "\n",
    "    f_vector = np.concatenate([nov, novelty_std, novelty_mean,\n",
    "                               zero_crossings.flatten(), zero_crossings_std, zero_crossings_mean,\n",
    "                               spectral_flux_std, spectral_flux_mean, \n",
    "                               tempogram.flatten(), tempo])\n",
    "    return f_vector"
   ]
  },
  {
   "cell_type": "code",
   "execution_count": null,
   "id": "de1e5668",
   "metadata": {
    "scrolled": true
   },
   "outputs": [],
   "source": [
    "# Compute feature vector for all the audio files inside the training set\n",
    "N = 2048\n",
    "H = 128\n",
    "\n",
    "train_fvector = []\n",
    "for i in tqdm(range(100)):\n",
    "    f_v = compute_feature_vector(audio_train[i], Fs, N, H)\n",
    "    train_fvector.append(f_v) \n",
    "train_fvector = np.array(train_fvector) \n",
    "    \n",
    "test_fvector = []\n",
    "for i in tqdm(range(20)):\n",
    "    f_v = compute_feature_vector(audio_test[i], Fs, N, H)\n",
    "    test_fvector.append(f_v)\n",
    "test_fvector = np.array(test_fvector)  "
   ]
  },
  {
   "cell_type": "code",
   "execution_count": null,
   "id": "ffd8cef7",
   "metadata": {},
   "outputs": [],
   "source": [
    "# Check train_fvector and genre_train shapes\n",
    "print(f\"Shapes of train_fvector: {np.shape(train_fvector)}\")\n",
    "print(f\"Shapes of test_fvector: {np.shape(test_fvector)}\")"
   ]
  },
  {
   "cell_type": "markdown",
   "id": "d5d1f129",
   "metadata": {},
   "source": [
    "## Question 4"
   ]
  },
  {
   "cell_type": "code",
   "execution_count": null,
   "id": "b9476483",
   "metadata": {},
   "outputs": [],
   "source": [
    "# Define model parameters\n",
    "C=0.1\n",
    "kernel = 'poly'\n",
    "N=train_fvector.shape[0]\n",
    "H=train_fvector.shape[1]\n",
    "\n",
    "if not os.path.exists('my_model/'):\n",
    "    os.mkdir('my_model/')\n",
    "\n",
    "# Train SVC\n",
    "model = sklearn.svm.SVC(C=C, kernel=kernel)\n",
    "model.fit(train_fvector, genre_train.numpy().flatten())\n",
    "\n",
    "# Save the model\n",
    "file = f'my_model/svc_{kernel}_C_{C}_N_{N}_H_{H}.joblib'\n",
    "joblib.dump(model, file)\n",
    "print(f\"Model saved: {file}\")\n",
    " "
   ]
  },
  {
   "cell_type": "code",
   "execution_count": null,
   "id": "c299391b",
   "metadata": {},
   "outputs": [],
   "source": [
    "# Print the accuracy on the training set\n",
    "train_accuracy = sk.metrics.accuracy_score(genre_train, model.predict(train_fvector))\n",
    "print(f\"Accuracy on the training set: {train_accuracy * 100:.2f}%\")"
   ]
  },
  {
   "cell_type": "markdown",
   "id": "b62d10de",
   "metadata": {},
   "source": [
    "## Question 5"
   ]
  },
  {
   "cell_type": "code",
   "execution_count": null,
   "id": "d00d9141",
   "metadata": {},
   "outputs": [],
   "source": [
    "# Classify the test set\n",
    "predictions = model.predict(test_fvector)"
   ]
  },
  {
   "cell_type": "code",
   "execution_count": null,
   "id": "8d6d64e1",
   "metadata": {},
   "outputs": [],
   "source": [
    "# Print the accuracy\n",
    "test_accuracy = sk.metrics.accuracy_score(genre_test, predictions)\n",
    "print(f\"Accuracy on the test set: {test_accuracy * 100:.2f}%\")"
   ]
  },
  {
   "cell_type": "code",
   "execution_count": null,
   "id": "5b064b34",
   "metadata": {},
   "outputs": [],
   "source": [
    "# Compute the confusion matrix\n",
    "cmatrix = sk.metrics.confusion_matrix(genre_test, predictions)\n",
    "\n",
    "# Plot the confusion matrix\n",
    "plt.figure(figsize=(8, 8))\n",
    "sns.heatmap(cmatrix, annot=0, fmt=\"d\", cmap=\"Blues\", cbar=True,\n",
    "            xticklabels=genre_names,\n",
    "            yticklabels=genre_names)\n",
    "plt.xlabel('Predicted')\n",
    "plt.ylabel('True')\n",
    "plt.title('Confusion Matrix')\n",
    "plt.show()"
   ]
  }
 ],
 "metadata": {
  "kernelspec": {
   "display_name": "Python 3 (ipykernel)",
   "language": "python",
   "name": "python3"
  },
  "language_info": {
   "codemirror_mode": {
    "name": "ipython",
    "version": 3
   },
   "file_extension": ".py",
   "mimetype": "text/x-python",
   "name": "python",
   "nbconvert_exporter": "python",
   "pygments_lexer": "ipython3",
   "version": "3.8.18"
  }
 },
 "nbformat": 4,
 "nbformat_minor": 5
}
